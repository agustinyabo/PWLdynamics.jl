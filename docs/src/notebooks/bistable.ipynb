{
 "cells": [
  {
   "cell_type": "markdown",
   "source": [
    "# Bistable toggle switch"
   ],
   "metadata": {}
  },
  {
   "cell_type": "markdown",
   "source": [
    "The simplest GRN exhibiting bistability can be modeled through two variables $x_1$ and $x_2$ that mutually repress each othe. We suppose that the system can be externally controlled by a chemical inducer that targets the synthesis rates of both genes. The model is defined as\n",
    "$$\n",
    "\\left\\{ \\begin{array}{l}\n",
    "\\dot{x}_1 = -\\gamma_1 x_1 + u(t) k_1 s^{-}(x_2,\\theta_2) , \\\\\n",
    "\\dot{x}_2 = -\\gamma_2 x_2 + u(t) k_2  s^{-}(x_1,\\theta_1),\n",
    "\\end{array}\\right.\n",
    "$$\n",
    "where a detail of each term can be found in [Introduction](index.md#context). The domain $K=[0,k_1 / \\gamma_1]\\times [0,k_2 / \\gamma_2]$ is forward invariant by the dynamics, which divides the state space into four regions:\n",
    "$$\n",
    "\\begin{array}{l}\n",
    "B_{00}=\\left\\{(x_1,x_2)\\in \\R^2 \\mid 0<x_1<\\theta_1, \\ 0<x_2<\\theta_2\\right\\},\\\\\n",
    "B_{01}=\\left\\{(x_1,x_2)\\in \\R^2 \\mid 0<x_1<\\theta_1, \\ \\theta_2<x_2<\\frac{k_2}{\\gamma_2}\\right\\},\\\\\n",
    "B_{10}=\\left\\{(x_1,x_2)\\in \\R^2 \\mid \\theta_1<x_1<\\frac{k_1}{\\gamma_1}, \\ 0<x_2<\\theta_2\\right\\},\\\\\n",
    "B_{11}=\\left\\{(x_1,x_2)\\in \\R^2 \\mid \\theta_1<x_1<\\frac{k_1}{\\gamma_1}, \\ \\theta_2<x_2<\\frac{k_2}{\\gamma_2}\\right\\},\n",
    "\\end{array}\n",
    "$$\n",
    "and two locally asymptotically stable steady states\n",
    "$$\n",
    "\\begin{align}\n",
    "    \\nonumber \\phi_{10} &= \\left(\\frac{k_1}{\\gamma_1},0\\right)\\in \\bar{B}_{10}, \\\\\n",
    "    \\nonumber \\phi_{01} &= \\left(0,\\frac{k_2}{\\gamma_2}\\right)\\in \\bar{B}_{01},\n",
    "\\end{align}\n",
    "$$\n",
    "as shown in the following figure:"
   ],
   "metadata": {}
  },
  {
   "cell_type": "markdown",
   "source": [
    "![Alt Text](bistable.png)"
   ],
   "metadata": {}
  },
  {
   "cell_type": "markdown",
   "source": [
    "The control objective is to induce a transition between an initial point in $B_{10}$ and a final value of $x_2$ in $B_{01}$, which can be written through the initial and terminal constraints:\n",
    "$$\n",
    "    x(0) = x_0 \\in B_{10}, \\qquad x_1(t_f) < \\theta_1, \\qquad x_2(t_f) = x_2^f\n",
    "$$\n",
    "for free final time $t_f > 0$ and for $x_2^f > \\theta_2$."
   ],
   "metadata": {}
  },
  {
   "cell_type": "markdown",
   "source": [
    "## Problem definition"
   ],
   "metadata": {}
  },
  {
   "outputs": [],
   "cell_type": "code",
   "source": [
    "using Plots\n",
    "using Plots.PlotMeasures\n",
    "using OptimalControl\n",
    "using NLPModelsIpopt\n",
    "nothing # hide"
   ],
   "metadata": {},
   "execution_count": null
  },
  {
   "cell_type": "markdown",
   "source": [
    "We define the regularization functions, where the method is decided through the argument `regMethod`."
   ],
   "metadata": {}
  },
  {
   "outputs": [],
   "cell_type": "code",
   "source": [
    "# Regularization of the PWL dynamics\n",
    "function s⁺(x, θ, regMethod)\n",
    "    if regMethod == 1 # Hill\n",
    "        out = x^k/(x^k + θ^k)\n",
    "    elseif regMethod == 2 # Exponential\n",
    "        out = 1 - 1/(1 + exp(k*(x-θ)))\n",
    "    end\n",
    "    return out\n",
    "end\n",
    "\n",
    "# Regularization of |u(t) - 1|\n",
    "function abs_m1(u, regMethod)\n",
    "    if regMethod == 1 # Hill\n",
    "        out = (u^k - 1)/(u^k + 1)\n",
    "    elseif regMethod == 2 # Exponential\n",
    "        out = 1 - 2/(1 + exp(k*(u-1)))\n",
    "    end\n",
    "    return out*(u - 1)\n",
    "end\n",
    "nothing # hide"
   ],
   "metadata": {},
   "execution_count": null
  },
  {
   "cell_type": "markdown",
   "source": [
    "Definition of the OCP:"
   ],
   "metadata": {}
  },
  {
   "outputs": [],
   "cell_type": "code",
   "source": [
    "# Constant definition\n",
    "k₁    = 1;    k₂    = 1     # Production rates\n",
    "γ₁    = 1.4;  γ₂    = 1.6   # Degradation rates\n",
    "θ₁    = 0.6;  θ₂    = 0.4   # Transcriptional thresholds\n",
    "uₘᵢₙ  = 0.6;  uₘₐₓ  = 1.4   # Control bounds\n",
    "x₀    = [0.65, 0.2]         # Initial point\n",
    "x₂ᶠ   = 0.55                # Final point\n",
    "λ     = 0.25                # Trade-off fuel/time\n",
    "\n",
    "# Initial guest for the NLP\n",
    "tf    = 1.5\n",
    "u(t)  = 0\n",
    "sol = (control=u, variable=tf)\n",
    "\n",
    "# Optimal control problem definition\n",
    "ocp = @def begin\n",
    "\n",
    "    tf ∈ R,                variable\n",
    "    t ∈ [ 0, tf ],         time\n",
    "    x = ( x₁, x₂ ) ∈ R²,   state\n",
    "    u ∈ R,                 control\n",
    "\n",
    "    x(0) == x₀\n",
    "    x₁(tf) ≤ θ₁\n",
    "    x₂(tf) == x₂ᶠ\n",
    "\n",
    "    uₘᵢₙ ≤ u(t) ≤ uₘₐₓ\n",
    "    tf ≥ 0\n",
    "\n",
    "    ẋ(t) == [ - γ₁*x₁(t) + k₁*u(t)*(1 - s⁺(x₂(t),θ₂,regMethod))  ,\n",
    "              - γ₂*x₂(t) + k₂*u(t)*(1 - s⁺(x₁(t),θ₁,regMethod)) ]\n",
    "\n",
    "    ∫(λ*abs_m1(u(t),regMethod) + 1-λ) → min\n",
    "\n",
    "end\n",
    "nothing # hide"
   ],
   "metadata": {},
   "execution_count": null
  },
  {
   "cell_type": "markdown",
   "source": [
    "## Resolution through Hill regularization"
   ],
   "metadata": {}
  },
  {
   "cell_type": "markdown",
   "source": [
    "In order to ensure convergence of the solver, we solve the OCP by iteratively increasing the parameter $k$ while using the $i-1$-th solution as the initialization of the $i$-th iteration."
   ],
   "metadata": {}
  },
  {
   "outputs": [],
   "cell_type": "code",
   "source": [
    "regMethod = 1       # Hill regularization\n",
    "ki = 50             # Value of k for the first iteration\n",
    "N = 400\n",
    "maxki = 200          # Value of k for the last iteration\n",
    "while ki < maxki\n",
    "    global ki += 50  # Iteration step\n",
    "    local print_level = (ki == maxki) # Only print the output on the last iteration\n",
    "    global k = ki\n",
    "    global sol = solve(ocp; grid_size=N, init=sol, print_level=4*print_level)\n",
    "end\n",
    "nothing # hide"
   ],
   "metadata": {},
   "execution_count": null
  },
  {
   "cell_type": "markdown",
   "source": [
    "Plotting of the results:"
   ],
   "metadata": {}
  },
  {
   "outputs": [],
   "cell_type": "code",
   "source": [
    "plt1 = plot()\n",
    "plt2 = plot()\n",
    "\n",
    "tf    = variable(sol)\n",
    "tspan = range(0, tf, N)   # time interval\n",
    "x₁(t) = state(sol)(t)[1]\n",
    "x₂(t) = state(sol)(t)[2]\n",
    "u(t)  = control(sol)(t)\n",
    "\n",
    "xticks = ([0, θ₁], [\"0\", \"θ₁\"])\n",
    "yticks = ([0, θ₂, x₂ᶠ], [\"0\", \"θ₂\", \"x₂ᶠ\"])\n",
    "\n",
    "plot!(plt1, x₁.(tspan), x₂.(tspan), label=\"optimal trajectory\", xlabel=\"x₁\", ylabel=\"x₂\", xlimits=(θ₁/3, k₁/γ₁), ylimits=(0, k₂/γ₂))\n",
    "scatter!(plt1, [x₀[1]], [x₀[2]], label=\"x₀\", color=:deepskyblue)\n",
    "xticks!(xticks)\n",
    "yticks!(yticks)\n",
    "plot!(plt2, tspan, u, label=\"optimal control\", xlabel=\"t\")\n",
    "plot(plt1, plt2; layout=(1,2), size=(800,300))"
   ],
   "metadata": {},
   "execution_count": null
  },
  {
   "cell_type": "markdown",
   "source": [
    "## Resolution through exponential regularization"
   ],
   "metadata": {}
  },
  {
   "cell_type": "markdown",
   "source": [
    "The same procedure for iteratively increasing $k$ is used."
   ],
   "metadata": {}
  },
  {
   "outputs": [],
   "cell_type": "code",
   "source": [
    "regMethod = 2       # Exponential regularization\n",
    "ki = 50             # Value of k for the first iteration\n",
    "N = 400\n",
    "maxki = 300          # Value of k for the last iteration\n",
    "while ki < maxki\n",
    "    global ki += 50  # Iteration step\n",
    "    local print_level = (ki == maxki) # Only print the output on the last iteration\n",
    "    global k = ki\n",
    "    global sol = solve(ocp; grid_size=N, init=sol, print_level=4*print_level)\n",
    "end\n",
    "nothing # hide"
   ],
   "metadata": {},
   "execution_count": null
  },
  {
   "cell_type": "markdown",
   "source": [
    "Plotting of the results:"
   ],
   "metadata": {}
  },
  {
   "outputs": [],
   "cell_type": "code",
   "source": [
    "plt1 = plot()\n",
    "plt2 = plot()\n",
    "\n",
    "tf    = variable(sol)\n",
    "tspan = range(0, tf, N)   # time interval\n",
    "x₁(t) = state(sol)(t)[1]\n",
    "x₂(t) = state(sol)(t)[2]\n",
    "u(t)  = control(sol)(t)\n",
    "\n",
    "xticks = ([0, θ₁], [\"0\", \"θ₁\"])\n",
    "yticks = ([0, θ₂, x₂ᶠ], [\"0\", \"θ₂\", \"x₂ᶠ\"])\n",
    "\n",
    "plot!(plt1, x₁.(tspan), x₂.(tspan), label=\"optimal trajectory\", xlabel=\"x₁\", ylabel=\"x₂\", xlimits=(θ₁/3, k₁/γ₁), ylimits=(0, k₂/γ₂))\n",
    "scatter!(plt1, [x₀[1]], [x₀[2]], label=\"x₀\", color=:deepskyblue)\n",
    "xticks!(xticks)\n",
    "yticks!(yticks)\n",
    "plot!(plt2, tspan, u, label=\"optimal control\", xlabel=\"t\")\n",
    "plot(plt1, plt2; layout=(1,2), size=(800,300))"
   ],
   "metadata": {},
   "execution_count": null
  },
  {
   "cell_type": "markdown",
   "source": [
    "---\n",
    "\n",
    "*This notebook was generated using [Literate.jl](https://github.com/fredrikekre/Literate.jl).*"
   ],
   "metadata": {}
  }
 ],
 "nbformat_minor": 3,
 "metadata": {
  "language_info": {
   "file_extension": ".jl",
   "mimetype": "application/julia",
   "name": "julia",
   "version": "1.11.5"
  },
  "kernelspec": {
   "name": "julia-1.11",
   "display_name": "Julia 1.11.5",
   "language": "julia"
  }
 },
 "nbformat": 4
}
