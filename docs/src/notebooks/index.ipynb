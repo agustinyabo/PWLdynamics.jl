{
 "cells": [
  {
   "cell_type": "markdown",
   "source": [
    "# PWL models of gene regulatory networks"
   ],
   "metadata": {}
  },
  {
   "cell_type": "markdown",
   "source": [
    "## Context"
   ],
   "metadata": {}
  },
  {
   "cell_type": "markdown",
   "source": [
    "This application case studies the resolution of OCPs through a direct numerical method in piecewise linear models of gene regulatory networks[^1]. More specifically, we study state transitions between two points of the state space minimizing the nonsmooth cost function\n",
    "$$\n",
    "J_\\lambda(u) = \\lambda \\int_0^{t_f} |u(t)-1| \\, dt + (1-\\lambda) t_f\n",
    "$$\n",
    "where $u(t) \\in [u_{\\min}, u_{\\max}]$ is the external control, $\\lambda \\in (0,1)$ a fixed parameter, and $t_f$ is the free final time. In the general case, the concentration of the $i$-th gene is described by a dynamical equation of the form\n",
    "$$\n",
    "\\dot{x}_i = -\\gamma_i x_i + k_i s^{\\pm}(x_j,\\theta_j),\n",
    "$$\n",
    "where the positive constants $\\gamma_i$, $k_i$ correspond, respectively, to the degradation and the production rates of $x_i$, and the gene expression rate $s^{\\pm}$ is a piecewise constant function defined as:\n",
    "$$\n",
    "        s^+(x, \\theta) = \\left\\{ \\begin{array}{ll}\n",
    "        0 \\quad \\textit{if } x < \\theta, \\\\\n",
    "        1 \\quad \\textit{if } x > \\theta,\n",
    "        \\end{array} \\right. \\quad\n",
    "        s^-(x, \\theta) = 1 - s^+(x, \\theta) = \\left\\{ \\begin{array}{ll}\n",
    "        1 \\quad \\textit{if } x < \\theta, \\\\\n",
    "        0 \\quad \\textit{if } x > \\theta,\n",
    "        \\end{array} \\right.\n",
    "$$\n",
    "where $s^-$ models an inhibiting effect, $s^+$ a catalyzing effect, and $\\theta$ represents in both cases a threshold for transcriptional repression or activation, respectively."
   ],
   "metadata": {}
  },
  {
   "cell_type": "markdown",
   "source": [
    "In order to solve this numerical OCP, there are two difficulties:\n",
    "- The hybrid nature of the dynamics.\n",
    "- The non-smoothness of the $L^1$ Lagrangian cost."
   ],
   "metadata": {}
  },
  {
   "cell_type": "markdown",
   "source": [
    "The latter can be tackled through a regularization scheme to be detailed in next section."
   ],
   "metadata": {}
  },
  {
   "cell_type": "markdown",
   "source": [
    "## Regularization strategies"
   ],
   "metadata": {}
  },
  {
   "cell_type": "markdown",
   "source": [
    "Two regularization strategies are compared: through Hill functions, and through exponential functions, both depending on a parameter $k \\in \\mathbb{N}$. Each case is detailed in the following table."
   ],
   "metadata": {}
  },
  {
   "cell_type": "markdown",
   "source": [
    "| Function | Hill | Exponential |\n",
    "| :-------------: | :-------------: | :-------------: |\n",
    "| $s^+(x, \\theta)$ | $\\frac{x^k}{x^k + \\theta^k}$ | $1 - \\frac{1}{1 + e^{k(x-\\theta)}}$ |\n",
    "| $\\mid u-1 \\mid$ | $(u-1) \\frac{u^k - 1}{u^k + 1}$ | $(u-1) \\left[ 1 - \\frac{2}{1 + e^{k(u-1)}} \\right]$ |"
   ],
   "metadata": {}
  },
  {
   "cell_type": "markdown",
   "source": [
    "A comparison for low values of $k$, for $s^+(x, \\theta)$:"
   ],
   "metadata": {}
  },
  {
   "outputs": [],
   "cell_type": "code",
   "source": [
    "using Plots\n",
    "θ = 2\n",
    "k = 10\n",
    "x = range(0, 4, length=100)\n",
    "y1 = (x .> θ)\n",
    "y2 = x.^k ./ (x.^k .+ θ^k)\n",
    "y3 = 1 .- 1 ./ (1 .+ exp.(k*(x.-θ)))\n",
    "plot(x, [y1, y2, y3], label=[\"s⁺\" \"Hill\" \"Exponential\"], xlabel=\"x\")"
   ],
   "metadata": {},
   "execution_count": null
  },
  {
   "cell_type": "markdown",
   "source": [
    "and for $|u-1|$:"
   ],
   "metadata": {}
  },
  {
   "outputs": [],
   "cell_type": "code",
   "source": [
    "using Plots\n",
    "k = 5\n",
    "u = range(0, 2, length=100)\n",
    "y1 = abs.(u .- 1)\n",
    "y2 = (u .- 1).*(u.^k .- 1)./(u.^k .+ 1)\n",
    "y3 = (u .- 1).*(1 .- 2 ./ (1 .+ exp.(k .* (u .- 1))))\n",
    "plot(u, [y1, y2, y3], label=[\"|u-1|\" \"Hill\" \"Exponential\"], xlabel=\"u\")"
   ],
   "metadata": {},
   "execution_count": null
  },
  {
   "cell_type": "markdown",
   "source": [
    "[^1]: Agustín G. Yabo, Nicolas Augier. On L¹ and time-optimal state transitions in piecewise linear models of gene-regulatory networks. Preprint. 2024. [https://hal.science/hal-04820387](https://hal.science/hal-04820387)."
   ],
   "metadata": {}
  },
  {
   "cell_type": "markdown",
   "source": [
    "---\n",
    "\n",
    "*This notebook was generated using [Literate.jl](https://github.com/fredrikekre/Literate.jl).*"
   ],
   "metadata": {}
  }
 ],
 "nbformat_minor": 3,
 "metadata": {
  "language_info": {
   "file_extension": ".jl",
   "mimetype": "application/julia",
   "name": "julia",
   "version": "1.11.5"
  },
  "kernelspec": {
   "name": "julia-1.11",
   "display_name": "Julia 1.11.5",
   "language": "julia"
  }
 },
 "nbformat": 4
}
