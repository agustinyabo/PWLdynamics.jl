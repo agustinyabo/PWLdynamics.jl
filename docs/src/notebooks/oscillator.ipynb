{
 "cells": [
  {
   "cell_type": "markdown",
   "source": [
    "# Damped genetic oscillator"
   ],
   "metadata": {}
  },
  {
   "cell_type": "markdown",
   "source": [
    "The simplest GRN exhibiting oscillatory behaviors can be modeled through two variables $x_1$ and $x_2$ with opposite mutual effects: $x_1$ catalyzes the production of $x_2$, that in turn inhibits the production of $x_1$. We suppose that the system can be externally controlled by a chemical inducer that targets only one of the genes. The model is defined as\n",
    "$$\n",
    "\\left\\{ \\begin{array}{l}\n",
    "\\dot{x}_1 = -\\gamma_1 x_1 + u(t) k_1 s^{-}(x_2,\\theta_2) , \\\\\n",
    "\\dot{x}_2 = -\\gamma_2 x_2 + k_2  s^{+}(x_1,\\theta_1).\n",
    "\\end{array}\\right.\n",
    "$$\n",
    "where a detail of each term can be found in [Introduction](index.md#context)."
   ],
   "metadata": {}
  },
  {
   "cell_type": "markdown",
   "source": [
    "For any initial condition, the openloop system (i.e, $u \\equiv 1$) converges to the equilibrium point $(\\theta_1, \\theta_2)$ when $t \\rightarrow \\infty$, producing a damped oscillatory behavior[^1]:"
   ],
   "metadata": {}
  },
  {
   "cell_type": "markdown",
   "source": [
    "![Alt Text](openloop.png)"
   ],
   "metadata": {}
  },
  {
   "cell_type": "markdown",
   "source": [
    "The control objective is to induce a sustained oscillation. Thus, we can state the problem of producing a single cycle, which can be written through the initial and terminal constraints:\n",
    "$$\n",
    "    x(0) = x(t_f) = (x_1^c, \\theta_2 )\n",
    "$$\n",
    "for free final time $t_f > 0$ and for $x_1^c > \\theta_1$."
   ],
   "metadata": {}
  },
  {
   "cell_type": "markdown",
   "source": [
    "## Problem definition"
   ],
   "metadata": {}
  },
  {
   "outputs": [],
   "cell_type": "code",
   "source": [
    "using Plots\n",
    "using Plots.PlotMeasures\n",
    "using OptimalControl\n",
    "using NLPModelsIpopt\n",
    "nothing # hide"
   ],
   "metadata": {},
   "execution_count": null
  },
  {
   "cell_type": "markdown",
   "source": [
    "We define the regularization functions, where the method is decided through the argument `regMethod`."
   ],
   "metadata": {}
  },
  {
   "outputs": [],
   "cell_type": "code",
   "source": [
    "# Regularization of the PWL dynamics\n",
    "function s⁺(x, θ, regMethod)\n",
    "    if regMethod == 1 # Hill\n",
    "        out = x^k/(x^k + θ^k)\n",
    "    elseif regMethod == 2 # Exponential\n",
    "        out = 1 - 1/(1 + exp(k*(x-θ)))\n",
    "    end\n",
    "    return out\n",
    "end\n",
    "\n",
    "# Regularization of |u(t) - 1|\n",
    "function abs_m1(u, regMethod)\n",
    "    if regMethod == 1 # Hill\n",
    "        out = (u^k - 1)/(u^k + 1)\n",
    "    elseif regMethod == 2 # Exponential\n",
    "        out = 1 - 2/(1 + exp(k*(u-1)))\n",
    "    end\n",
    "    return out*(u - 1)\n",
    "end\n",
    "nothing # hide"
   ],
   "metadata": {},
   "execution_count": null
  },
  {
   "cell_type": "markdown",
   "source": [
    "Definition of the OCP:"
   ],
   "metadata": {}
  },
  {
   "outputs": [],
   "cell_type": "code",
   "source": [
    "# Constant definition\n",
    "k₁    = 2;    k₂    = 3     # Production rates\n",
    "γ₁    = 0.2;  γ₂    = 0.3   # Degradation rates\n",
    "θ₁    = 4;    θ₂    = 3     # Transcriptional thresholds\n",
    "uₘᵢₙ  = 0.6;  uₘₐₓ  = 1.4   # Control bounds\n",
    "x₁ᶜ   = 4.7                 # Cycle point (initial and final)\n",
    "λ     = 0.5                 # Trade-off fuel/time\n",
    "\n",
    "# Initial guest for the NLP\n",
    "tf    = 1\n",
    "u(t)  = 1\n",
    "sol = (control=u, variable=tf)\n",
    "\n",
    "# Optimal control problem definition\n",
    "ocp = @def begin\n",
    "\n",
    "    tf ∈ R,                variable\n",
    "    t ∈ [ 0, tf ],         time\n",
    "    x = ( x₁, x₂ ) ∈ R²,   state\n",
    "    u ∈ R,                 control\n",
    "\n",
    "    x₁(0) == x₁ᶜ\n",
    "    x₂(0) == θ₂\n",
    "    x₁(tf) == x₁ᶜ\n",
    "    x₂(tf) == θ₂\n",
    "\n",
    "    uₘᵢₙ ≤ u(t) ≤ uₘₐₓ\n",
    "    tf ≥ 1 # Force the state out of the confort zone\n",
    "\n",
    "    ẋ(t) == [ - γ₁*x₁(t) + k₁*u(t)*(1 - s⁺(x₂(t),θ₂,regMethod))  ,\n",
    "              - γ₂*x₂(t) + k₂*s⁺(x₁(t),θ₁,regMethod) ]\n",
    "\n",
    "    ∫(λ*abs_m1(u(t),regMethod) + 1-λ) → min\n",
    "\n",
    "end\n",
    "nothing # hide"
   ],
   "metadata": {},
   "execution_count": null
  },
  {
   "cell_type": "markdown",
   "source": [
    "## Resolution through Hill regularization"
   ],
   "metadata": {}
  },
  {
   "cell_type": "markdown",
   "source": [
    "In order to ensure convergence of the solver, we solve the OCP by iteratively increasing the parameter $k$ while using the $i-1$-th solution as the initialization of the $i$-th iteration."
   ],
   "metadata": {}
  },
  {
   "outputs": [],
   "cell_type": "code",
   "source": [
    "regMethod = 1       # Hill regularization\n",
    "ki = 10             # Value of k for the first iteration\n",
    "N = 400\n",
    "maxki = 30          # Value of k for the last iteration\n",
    "while ki < maxki\n",
    "    global ki += 10  # Iteration step\n",
    "    local print_level = (ki == maxki) # Only print the output on the last iteration\n",
    "    global k = ki\n",
    "    global sol = solve(ocp; grid_size=N, init=sol, print_level=4*print_level)\n",
    "end\n",
    "nothing # hide"
   ],
   "metadata": {},
   "execution_count": null
  },
  {
   "cell_type": "markdown",
   "source": [
    "Plotting of the results:"
   ],
   "metadata": {}
  },
  {
   "outputs": [],
   "cell_type": "code",
   "source": [
    "plt1 = plot()\n",
    "plt2 = plot()\n",
    "\n",
    "tf    = variable(sol)\n",
    "tspan = range(0, tf, N)   # time interval\n",
    "x₁(t) = state(sol)(t)[1]\n",
    "x₂(t) = state(sol)(t)[2]\n",
    "u(t)  = control(sol)(t)\n",
    "\n",
    "xticks = ([0, θ₁, x₁ᶜ], [\"0\", \"θ₁\", \"x₁ᶜ\"])\n",
    "yticks = ([0, θ₂], [\"0\", \"θ₂\"])\n",
    "\n",
    "plot!(plt1, x₁.(tspan), x₂.(tspan), label=\"optimal trajectory\", xlabel=\"x₁\", ylabel=\"x₂\", xlimits=(θ₁/1.5, 1.1*x₁ᶜ), ylimits=(θ₂/2, 1.75*θ₂))\n",
    "xticks!(xticks)\n",
    "yticks!(yticks)\n",
    "plot!(plt2, tspan, u, label=\"optimal control\", xlabel=\"t\")\n",
    "plot(plt1, plt2; layout=(1,2), size=(800,300))"
   ],
   "metadata": {},
   "execution_count": null
  },
  {
   "cell_type": "markdown",
   "source": [
    "## Resolution through exponential regularization"
   ],
   "metadata": {}
  },
  {
   "cell_type": "markdown",
   "source": [
    "The same procedure for iteratively increasing $k$ is used."
   ],
   "metadata": {}
  },
  {
   "outputs": [],
   "cell_type": "code",
   "source": [
    "regMethod = 2       # Exponential regularization\n",
    "ki = 100             # Value of k for the first iteration\n",
    "N = 400\n",
    "maxki = 400          # Value of k for the last iteration\n",
    "while ki < maxki\n",
    "    global ki += 100  # Iteration step\n",
    "    local print_level = (ki == maxki) # Only print the output on the last iteration\n",
    "    global k = ki\n",
    "    global sol = solve(ocp; grid_size=N, init=sol, print_level=4*print_level)\n",
    "end\n",
    "nothing # hide"
   ],
   "metadata": {},
   "execution_count": null
  },
  {
   "cell_type": "markdown",
   "source": [
    "Plotting of the results:"
   ],
   "metadata": {}
  },
  {
   "outputs": [],
   "cell_type": "code",
   "source": [
    "plt1 = plot()\n",
    "plt2 = plot()\n",
    "\n",
    "tf    = variable(sol)\n",
    "tspan = range(0, tf, N)   # time interval\n",
    "x₁(t) = state(sol)(t)[1]\n",
    "x₂(t) = state(sol)(t)[2]\n",
    "u(t)  = control(sol)(t)\n",
    "\n",
    "xticks = ([0, θ₁, x₁ᶜ], [\"0\", \"θ₁\", \"x₁ᶜ\"])\n",
    "yticks = ([0, θ₂], [\"0\", \"θ₂\"])\n",
    "\n",
    "plot!(plt1, x₁.(tspan), x₂.(tspan), label=\"optimal trajectory\", xlabel=\"x₁\", ylabel=\"x₂\", xlimits=(θ₁/1.5, 1.1*x₁ᶜ), ylimits=(θ₂/2, 1.75*θ₂))\n",
    "xticks!(xticks)\n",
    "yticks!(yticks)\n",
    "plot!(plt2, tspan, u, label=\"optimal control\", xlabel=\"t\")\n",
    "plot(plt1, plt2; layout=(1,2), size=(800,300))"
   ],
   "metadata": {},
   "execution_count": null
  },
  {
   "cell_type": "markdown",
   "source": [
    "[^1]: E. Farcot, J.-L. Gouzé, Periodic solutions of piecewise affine gene network models with non uniform decay rates: the case of a negative feedback loop, Acta biotheoretica 57 (4) (2009) 429–455. -->"
   ],
   "metadata": {}
  },
  {
   "cell_type": "markdown",
   "source": [
    "---\n",
    "\n",
    "*This notebook was generated using [Literate.jl](https://github.com/fredrikekre/Literate.jl).*"
   ],
   "metadata": {}
  }
 ],
 "nbformat_minor": 3,
 "metadata": {
  "language_info": {
   "file_extension": ".jl",
   "mimetype": "application/julia",
   "name": "julia",
   "version": "1.11.5"
  },
  "kernelspec": {
   "name": "julia-1.11",
   "display_name": "Julia 1.11.5",
   "language": "julia"
  }
 },
 "nbformat": 4
}
